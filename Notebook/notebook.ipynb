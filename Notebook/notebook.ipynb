version https://git-lfs.github.com/spec/v1
oid sha256:b187df0cfb55d0517d13ac484cbb920e229d292d54f7db2114220d143667ee04
size 262601
